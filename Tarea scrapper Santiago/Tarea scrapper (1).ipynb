{
 "cells": [
  {
   "cell_type": "code",
   "execution_count": 1,
   "metadata": {},
   "outputs": [
    {
     "name": "stdout",
     "output_type": "stream",
     "text": [
      "Collecting selenium\n",
      "  Downloading https://files.pythonhosted.org/packages/80/d6/4294f0b4bce4de0abf13e17190289f9d0613b0a44e5dd6a7f5ca98459853/selenium-3.141.0-py2.py3-none-any.whl (904kB)\n",
      "Requirement already satisfied: urllib3 in c:\\users\\andyl\\anaconda3\\lib\\site-packages (from selenium) (1.24.2)\n",
      "Installing collected packages: selenium\n",
      "Successfully installed selenium-3.141.0\n",
      "Note: you may need to restart the kernel to use updated packages.\n"
     ]
    }
   ],
   "source": [
    "pip install selenium"
   ]
  },
  {
   "cell_type": "code",
   "execution_count": 1,
   "metadata": {},
   "outputs": [],
   "source": [
    "import random\n",
    "from time import sleep\n",
    "from selenium import webdriver\n",
    "from selenium.webdriver.chrome.options import Options\n",
    "import pandas as pd\n",
    "from bs4 import BeautifulSoup\n",
    "import requests\n",
    "import numpy as np"
   ]
  },
  {
   "cell_type": "code",
   "execution_count": 28,
   "metadata": {},
   "outputs": [
    {
     "name": "stderr",
     "output_type": "stream",
     "text": [
      "C:\\Users\\andyl\\Anaconda3\\lib\\site-packages\\ipykernel_launcher.py:3: DeprecationWarning: use options instead of chrome_options\n",
      "  This is separate from the ipykernel package so we can avoid doing imports until\n"
     ]
    },
    {
     "name": "stdout",
     "output_type": "stream",
     "text": [
      "Page Title is : Datos providencia Personal a Contrata\n"
     ]
    }
   ],
   "source": [
    "#En esta comuna los datos estaban en csv.\n",
    "options = Options()\n",
    "options.add_argument(\"start-maximized\")\n",
    "driver = webdriver.Chrome(chrome_options=options, executable_path=r'./chromedriver.exe')\n",
    "driver.get('https://transparencia.providencia.cl/tact/Carpeta/VerTabla/24')\n",
    "print(\"Page Title is : Datos providencia %s\" %driver.title)"
   ]
  },
  {
   "cell_type": "code",
   "execution_count": null,
   "metadata": {},
   "outputs": [],
   "source": [
    "df = pd.read_csv('Personal a contrata.csv')\n",
    "df"
   ]
  },
  {
   "cell_type": "code",
   "execution_count": null,
   "metadata": {},
   "outputs": [],
   "source": [
    "options = Options()\n",
    "options.add_argument(\"start-maximized\")\n",
    "driver = webdriver.Chrome(chrome_options=options, executable_path=r'./chromedriver.exe')\n",
    "driver.get('https://transparencia.providencia.cl/tact/Carpeta/VerTabla/23')\n",
    "print(\"Page Title is : Datos providencia %s\" %driver.title)"
   ]
  },
  {
   "cell_type": "code",
   "execution_count": 7,
   "metadata": {},
   "outputs": [
    {
     "data": {
      "text/html": [
       "<div>\n",
       "<style scoped>\n",
       "    .dataframe tbody tr th:only-of-type {\n",
       "        vertical-align: middle;\n",
       "    }\n",
       "\n",
       "    .dataframe tbody tr th {\n",
       "        vertical-align: top;\n",
       "    }\n",
       "\n",
       "    .dataframe thead th {\n",
       "        text-align: right;\n",
       "    }\n",
       "</style>\n",
       "<table border=\"1\" class=\"dataframe\">\n",
       "  <thead>\n",
       "    <tr style=\"text-align: right;\">\n",
       "      <th></th>\n",
       "      <th>Personal Planta - junio 2020;06-2020;http://firma.providencia.cl/dsign/cgi/sdoc.exe/sdoc/document?id=UdwdA%2Br6SPOOka7%2BrZ6xlQ%3D%3D</th>\n",
       "    </tr>\n",
       "  </thead>\n",
       "  <tbody>\n",
       "    <tr>\n",
       "      <td>0</td>\n",
       "      <td>Personal Planta - Mayo 2020;05-2020;http://fir...</td>\n",
       "    </tr>\n",
       "    <tr>\n",
       "      <td>1</td>\n",
       "      <td>Personal de Planta - Abril 2020;04-2020;http:/...</td>\n",
       "    </tr>\n",
       "    <tr>\n",
       "      <td>2</td>\n",
       "      <td>Personal Planta- Marzo 2020;03-2020;http://fir...</td>\n",
       "    </tr>\n",
       "    <tr>\n",
       "      <td>3</td>\n",
       "      <td>Personal Planta - Febrero 2020;02-2020;http://...</td>\n",
       "    </tr>\n",
       "    <tr>\n",
       "      <td>4</td>\n",
       "      <td>Personal de Planta - Enero 2020;01-2020;http:/...</td>\n",
       "    </tr>\n",
       "    <tr>\n",
       "      <td>...</td>\n",
       "      <td>...</td>\n",
       "    </tr>\n",
       "    <tr>\n",
       "      <td>138</td>\n",
       "      <td>Personal Suplente - Mayo 2009;05-2009;http://f...</td>\n",
       "    </tr>\n",
       "    <tr>\n",
       "      <td>139</td>\n",
       "      <td>Personal Planta - Mayo 2009;05-2009;http://fir...</td>\n",
       "    </tr>\n",
       "    <tr>\n",
       "      <td>140</td>\n",
       "      <td>Personal de Planta - Abril 2009;04-2009;http:/...</td>\n",
       "    </tr>\n",
       "    <tr>\n",
       "      <td>141</td>\n",
       "      <td>Personal de Planta - Marzo 2009;03-2009;http:/...</td>\n",
       "    </tr>\n",
       "    <tr>\n",
       "      <td>142</td>\n",
       "      <td>Personal Suplente - Marzo 2009;03-2009;http://...</td>\n",
       "    </tr>\n",
       "  </tbody>\n",
       "</table>\n",
       "<p>143 rows × 1 columns</p>\n",
       "</div>"
      ],
      "text/plain": [
       "    Personal Planta - junio 2020;06-2020;http://firma.providencia.cl/dsign/cgi/sdoc.exe/sdoc/document?id=UdwdA%2Br6SPOOka7%2BrZ6xlQ%3D%3D\n",
       "0    Personal Planta - Mayo 2020;05-2020;http://fir...                                                                                   \n",
       "1    Personal de Planta - Abril 2020;04-2020;http:/...                                                                                   \n",
       "2    Personal Planta- Marzo 2020;03-2020;http://fir...                                                                                   \n",
       "3    Personal Planta - Febrero 2020;02-2020;http://...                                                                                   \n",
       "4    Personal de Planta - Enero 2020;01-2020;http:/...                                                                                   \n",
       "..                                                 ...                                                                                   \n",
       "138  Personal Suplente - Mayo 2009;05-2009;http://f...                                                                                   \n",
       "139  Personal Planta - Mayo 2009;05-2009;http://fir...                                                                                   \n",
       "140  Personal de Planta - Abril 2009;04-2009;http:/...                                                                                   \n",
       "141  Personal de Planta - Marzo 2009;03-2009;http:/...                                                                                   \n",
       "142  Personal Suplente - Marzo 2009;03-2009;http://...                                                                                   \n",
       "\n",
       "[143 rows x 1 columns]"
      ]
     },
     "execution_count": 7,
     "metadata": {},
     "output_type": "execute_result"
    }
   ],
   "source": [
    "df = pd.read_csv('Personal de planta.csv')\n",
    "df"
   ]
  },
  {
   "cell_type": "code",
   "execution_count": 2,
   "metadata": {},
   "outputs": [
    {
     "name": "stderr",
     "output_type": "stream",
     "text": [
      "C:\\Users\\andyl\\Anaconda3\\lib\\site-packages\\ipykernel_launcher.py:4: DeprecationWarning: use options instead of chrome_options\n",
      "  after removing the cwd from sys.path.\n"
     ]
    },
    {
     "name": "stdout",
     "output_type": "stream",
     "text": [
      "Page Title is : Datos ñuñoa Transparencia Activa de Organismos - Portal de Transparencia\n"
     ]
    }
   ],
   "source": [
    "#personal a contrata\n",
    "options = Options()\n",
    "options.add_argument(\"start-maximized\")\n",
    "driver = webdriver.Chrome(chrome_options=options, executable_path=r'./chromedriver.exe')\n",
    "driver.get('https://www.portaltransparencia.cl/PortalPdT/pdtta/-/ta/CM001/PR/PCONT/51235228')\n",
    "print(\"Page Title is : Datos ñuñoa contrata %s\" %driver.title)"
   ]
  },
  {
   "cell_type": "code",
   "execution_count": 3,
   "metadata": {},
   "outputs": [],
   "source": [
    "#Creamos el boton para poder avanzar por las paginas, dentro del for cambiamos el segundo span por una casilla i, que permite que avance hasta 3 veces por las paginas, si le ponia mas daba error.\n",
    "boton =driver.find_element_by_xpath(\"//*[@id='A2248:form-visualizar:datosplantilla_paginator_top']/span[3]/span[2]\")\n",
    "for i in range(3):\n",
    "    try:\n",
    "        boton.click()\n",
    "        sleep(random.uniform(8.0,10.0))\n",
    "        boton =driver.find_element_by_xpath(\"//*[@id='A2248:form-visualizar:datosplantilla_paginator_top']/span[3]/span[i]\")\n",
    "    except:\n",
    "        break"
   ]
  },
  {
   "cell_type": "code",
   "execution_count": 4,
   "metadata": {},
   "outputs": [],
   "source": [
    "#aqui extraemos la info de las filas y columnas de la pagina\n",
    "tablas = driver.find_elements_by_xpath(\"//*[@id='A2248:form-visualizar:datosplantilla_data']/tr\")\n",
    "TablaCol = driver.find_elements_by_xpath(\"//*[@id='A2248:form-visualizar:datosplantilla_data']/tr[1]/td\")"
   ]
  },
  {
   "cell_type": "code",
   "execution_count": 5,
   "metadata": {},
   "outputs": [],
   "source": [
    "#aqui los segmentamos en cada variable para luego insertarla a la base de datos\n",
    "for a in tablas:\n",
    "    año = a.find_element_by_xpath('//*[@id=\"A2248:form-visualizar:datosplantilla_data\"]/tr/td[1]/div')\n",
    "    mes = a.find_element_by_xpath('//*[@id=\"A2248:form-visualizar:datosplantilla_data\"]/tr/td[2]/div')\n",
    "    Estamento = a.find_element_by_xpath('//*[@id=\"A2248:form-visualizar:datosplantilla_data\"]/tr/td[3]/div')\n",
    "    Nombre_completo = a.find_element_by_xpath('//*[@id=\"A2248:form-visualizar:datosplantilla_data\"]/tr/td[4]/div')\n",
    "    Cargo_o_función = a.find_element_by_xpath('//*[@id=\"A2248:form-visualizar:datosplantilla_data\"]/tr/td[5]/div')\n",
    "    Grado_EUS_Cargo_con_jornada = a.find_element_by_xpath('//*[@id=\"A2248:form-visualizar:datosplantilla_data\"]/tr/td[6]/div')\n",
    "    Calificación_profesional= a.find_element_by_xpath('//*[@id=\"A2248:form-visualizar:datosplantilla_data\"]/tr/td[7]/div')\n",
    "    Región= a.find_element_by_xpath('//*[@id=\"A2248:form-visualizar:datosplantilla_data\"]/tr/td[8]/div')\n",
    "    Asignaciones_especiales=a.find_element_by_xpath('//*[@id=\"A2248:form-visualizar:datosplantilla_data\"]/tr/td[9]/div')\n",
    "    Unidad_monetaria = a.find_element_by_xpath('//*[@id=\"A2248:form-visualizar:datosplantilla_data\"]/tr/td[10]/div')\n",
    "    Remuneración_bruta= a.find_element_by_xpath('//*[@id=\"A2248:form-visualizar:datosplantilla_data\"]/tr/td[11]/div')\n",
    "    Remuneración_líquida= a.find_element_by_xpath('//*[@id=\"A2248:form-visualizar:datosplantilla_data\"]/tr/td[12]/div')\n",
    "    Montos_y_horas_diurnas = a.find_element_by_xpath('//*[@id=\"A2248:form-visualizar:datosplantilla_data\"]/tr/td[13]/div')\n",
    "    Montos_y_horas_nocturnas= a.find_element_by_xpath('//*[@id=\"A2248:form-visualizar:datosplantilla_data\"]/tr/td[14]/div')\n",
    "    Montos_y_horas_festivas= a.find_element_by_xpath('//*[@id=\"A2248:form-visualizar:datosplantilla_data\"]/tr/td[15]/div')\n",
    "    Fecha_de_inicio = a.find_element_by_xpath('//*[@id=\"A2248:form-visualizar:datosplantilla_data\"]/tr/td[16]/div')\n",
    "    Fecha_de_término = a.find_element_by_xpath('//*[@id=\"A2248:form-visualizar:datosplantilla_data\"]/tr/td[17]/div')\n",
    "    Declaración_de_intereses = a.find_element_by_xpath('//*[@id=\"A2248:form-visualizar:datosplantilla_data\"]/tr/td[18]/div')\n",
    "    Viáticos = a.find_element_by_xpath('//*[@id=\"A2248:form-visualizar:datosplantilla_data\"]/tr/td[19]/div')\n",
    "    Observaciones = a.find_element_by_xpath('//*[@id=\"A2248:form-visualizar:datosplantilla_data\"]/tr/td[20]/div')"
   ]
  },
  {
   "cell_type": "code",
   "execution_count": 6,
   "metadata": {},
   "outputs": [],
   "source": [
    "#creamos el dataframe con un index.\n",
    "df={'Año': año , 'Mes' : mes , 'Estamento': Estamento,'NombreCompleto': Nombre_completo,'Cargo': Cargo_o_función,'Grado': Grado_EUS_Cargo_con_jornada,'Formacion':Calificación_profesional,'Region':Región,'Asignacion Especial': Asignaciones_especiales,'Unidad Monetaria':Unidad_monetaria,'Sueldo Bruto':Remuneración_bruta,'Sueldo Liquido':Remuneración_líquida,'HorasExtrasDiurno':Montos_y_horas_diurnas,'HorasExtrasNocturno': Montos_y_horas_nocturnas,'HorasExtrasFestivos':Montos_y_horas_festivas,'FechaInicio': Fecha_de_inicio,'FechaTermino':Fecha_de_término,'DeclaraIntereses':Declaración_de_intereses,'Viaticos':Viáticos,'Observaciones':Observaciones}\n",
    "dataframe=pd.DataFrame([df])\n",
    "dataframe.index = np.arange(1, len(dataframe)+1)"
   ]
  },
  {
   "cell_type": "code",
   "execution_count": 20,
   "metadata": {},
   "outputs": [
    {
     "name": "stdout",
     "output_type": "stream",
     "text": [
      "<sqlite3.Connection object at 0x000002B072582650>\n"
     ]
    }
   ],
   "source": [
    "import sqlite3\n",
    "\n",
    "# conectamos la funcion a la base de datos, \n",
    "conn = sqlite3.connect('session.db')\n",
    "print(conn)"
   ]
  },
  {
   "cell_type": "code",
   "execution_count": 21,
   "metadata": {},
   "outputs": [
    {
     "ename": "OperationalError",
     "evalue": "database is locked",
     "output_type": "error",
     "traceback": [
      "\u001b[1;31m---------------------------------------------------------------------------\u001b[0m",
      "\u001b[1;31mOperationalError\u001b[0m                          Traceback (most recent call last)",
      "\u001b[1;32m<ipython-input-21-bf17265662b6>\u001b[0m in \u001b[0;36m<module>\u001b[1;34m\u001b[0m\n\u001b[0;32m     21\u001b[0m      \u001b[0mDECLARAINTERESES\u001b[0m   \u001b[0mTEXT\u001b[0m \u001b[0mNOT\u001b[0m \u001b[0mNULL\u001b[0m\u001b[1;33m,\u001b[0m\u001b[1;33m\u001b[0m\u001b[1;33m\u001b[0m\u001b[0m\n\u001b[0;32m     22\u001b[0m      \u001b[0mVIATICOS\u001b[0m     \u001b[0mTEXT\u001b[0m          \u001b[0mNOT\u001b[0m \u001b[0mNULL\u001b[0m\u001b[1;33m,\u001b[0m\u001b[1;33m\u001b[0m\u001b[1;33m\u001b[0m\u001b[0m\n\u001b[1;32m---> 23\u001b[1;33m      OBSERVACIONES    TEXT      NOT NULL);''')\n\u001b[0m\u001b[0;32m     24\u001b[0m \u001b[0mprint\u001b[0m \u001b[1;33m(\u001b[0m\u001b[1;34m\"Table created successfully\"\u001b[0m\u001b[1;33m)\u001b[0m\u001b[1;33m;\u001b[0m\u001b[1;33m\u001b[0m\u001b[1;33m\u001b[0m\u001b[0m\n\u001b[0;32m     25\u001b[0m \u001b[0mconn\u001b[0m\u001b[1;33m.\u001b[0m\u001b[0mclose\u001b[0m\u001b[1;33m(\u001b[0m\u001b[1;33m)\u001b[0m\u001b[1;33m\u001b[0m\u001b[1;33m\u001b[0m\u001b[0m\n",
      "\u001b[1;31mOperationalError\u001b[0m: database is locked"
     ]
    }
   ],
   "source": [
    "    conn.execute('''\n",
    "         CREATE TABLE ContrataÑuñoa9\n",
    "         (ID    INTEGER        PRIMARY KEY,\n",
    "         AÑO          INTEGER  NOT NULL,\n",
    "         MES        TEXT NOT NULL,\n",
    "         ESTAMENTO        TEXT    NOT NULL,\n",
    "         NOMBRECOMPLETO        TEXT    NOT NULL,\n",
    "         CARGO         TEXT NOT NULL,\n",
    "         GRADO INTEGER    NOT NULL,\n",
    "         FORMACION      TEXT   NOT NULL,\n",
    "         REGION        TEXT    NOT NULL,\n",
    "         ASIGNACIONESPECIAL    TEXT NOT NULL,\n",
    "         UNIDADMONETARIA        TEXT    NOT NULL,\n",
    "         SUELDOBRUTO    INTEGER    NOT NULL,\n",
    "         SUELDOLIQUIDO   INTEGER   NOT NULL,\n",
    "         HORASEXTRASDIURNO   TEXT   NOT NULL,\n",
    "         HORASEXTRASVESPERTINO  TEXT    NOT NULL,\n",
    "         HORASEXTRASFESTIVOS    TEXT   NOT NULL,\n",
    "         FECHAINICIO       TEXT   NOT NULL,\n",
    "         FECHATERMINO      TEXT    NOT NULL,\n",
    "         DECLARAINTERESES   TEXT NOT NULL,\n",
    "         VIATICOS     TEXT          NOT NULL,\n",
    "         OBSERVACIONES    TEXT      NOT NULL);''')\n",
    "    print (\"Table created successfully\");\n",
    "conn.close()\n",
    "print (\"Table created successfully\");"
   ]
  },
  {
   "cell_type": "code",
   "execution_count": 10,
   "metadata": {},
   "outputs": [],
   "source": [
    "#agregamos\n",
    "dataframe_list = dataframe.values.tolist()\n",
    "conn = sqlite3.connect('session.db')\n",
    "cur = conn.cursor()"
   ]
  },
  {
   "cell_type": "code",
   "execution_count": 11,
   "metadata": {},
   "outputs": [
    {
     "ename": "OperationalError",
     "evalue": "no such table: ContrataÑuñoa9",
     "output_type": "error",
     "traceback": [
      "\u001b[1;31m---------------------------------------------------------------------------\u001b[0m",
      "\u001b[1;31mOperationalError\u001b[0m                          Traceback (most recent call last)",
      "\u001b[1;32m<ipython-input-11-c203a0770bc7>\u001b[0m in \u001b[0;36m<module>\u001b[1;34m\u001b[0m\n\u001b[1;32m----> 1\u001b[1;33m \u001b[0mcur\u001b[0m\u001b[1;33m.\u001b[0m\u001b[0mexecutemany\u001b[0m\u001b[1;33m(\u001b[0m\u001b[1;34m\"INSERT INTO ContrataÑuñoa9(año,mes,Estamento,Nombre_completo,Cargo_o_función,Grado_EUS_Cargo_con_jornada,Calificación_profesional,Región,Asignaciones_especiales,Unidad_monetaria,Remuneración_bruta,Remuneración_líquida,Montos_y_horas_diurnas,Montos_y_horas_nocturnas,Montos_y_horas_festivas,Fecha_de_inicio,Fecha_de_término,Declaración_de_intereses,Viáticos,Observaciones) VALUES (?,?,?,?,?,?,?,?,?,?,?,?,?,?,?,?,?,?,?,?)\"\u001b[0m \u001b[1;33m,\u001b[0m\u001b[0mdataframe_list\u001b[0m\u001b[1;33m)\u001b[0m\u001b[1;33m\u001b[0m\u001b[1;33m\u001b[0m\u001b[0m\n\u001b[0m\u001b[0;32m      2\u001b[0m \u001b[0mconn\u001b[0m\u001b[1;33m.\u001b[0m\u001b[0mcommit\u001b[0m\u001b[1;33m(\u001b[0m\u001b[1;33m)\u001b[0m\u001b[1;33m\u001b[0m\u001b[1;33m\u001b[0m\u001b[0m\n\u001b[0;32m      3\u001b[0m \u001b[0mprint\u001b[0m\u001b[1;33m(\u001b[0m\u001b[1;34m'Data Inserted Successfully'\u001b[0m\u001b[1;33m)\u001b[0m\u001b[1;33m\u001b[0m\u001b[1;33m\u001b[0m\u001b[0m\n",
      "\u001b[1;31mOperationalError\u001b[0m: no such table: ContrataÑuñoa9"
     ]
    }
   ],
   "source": [
    "#pasamos los datos\n",
    "cur.executemany(\"INSERT INTO ContrataÑuñoa9(año,mes,Estamento,Nombre_completo,Cargo_o_función,Grado_EUS_Cargo_con_jornada,Calificación_profesional,Región,Asignaciones_especiales,Unidad_monetaria,Remuneración_bruta,Remuneración_líquida,Montos_y_horas_diurnas,Montos_y_horas_nocturnas,Montos_y_horas_festivas,Fecha_de_inicio,Fecha_de_término,Declaración_de_intereses,Viáticos,Observaciones) VALUES (?,?,?,?,?,?,?,?,?,?,?,?,?,?,?,?,?,?,?,?)\" ,dataframe_list)\n",
    "conn.commit()\n",
    "print('Data Inserted Successfully')"
   ]
  },
  {
   "cell_type": "code",
   "execution_count": 164,
   "metadata": {},
   "outputs": [],
   "source": [
    "#hacemos la conexion para mostrar los datos finalmente\n",
    "conn = sqlite3.connect('session.db')\n",
    "rows = cur.execute('Select * from ContrataÑuñoa5')\n",
    "# print(rows[:2])\n",
    "for row in rows:\n",
    "    print(row)\n",
    "conn.close()"
   ]
  },
  {
   "cell_type": "code",
   "execution_count": 13,
   "metadata": {},
   "outputs": [],
   "source": [
    "#me funciono, pero la base de datos se me lockeo y no supe como desbloquearla, me imagino que es un problema de sqlite.\n",
    "#aca abajo pondre el mismo proceso para los personal de planta."
   ]
  },
  {
   "cell_type": "code",
   "execution_count": 14,
   "metadata": {},
   "outputs": [
    {
     "name": "stderr",
     "output_type": "stream",
     "text": [
      "C:\\Users\\andyl\\Anaconda3\\lib\\site-packages\\ipykernel_launcher.py:4: DeprecationWarning: use options instead of chrome_options\n",
      "  after removing the cwd from sys.path.\n"
     ]
    },
    {
     "name": "stdout",
     "output_type": "stream",
     "text": [
      "Page Title is : Datos ñuñoa Transparencia Activa de Organismos - Portal de Transparencia\n"
     ]
    }
   ],
   "source": [
    "#personal de planta\n",
    "options = Options()\n",
    "options.add_argument(\"start-maximized\")\n",
    "driver = webdriver.Chrome(chrome_options=options, executable_path=r'./chromedriver.exe')\n",
    "driver.get('https://www.portaltransparencia.cl/PortalPdT/pdtta/-/ta/CM001/PR/PPLANT/51240655')\n",
    "print(\"Page Title is : Datos ñuñoa %s\" %driver.title)"
   ]
  },
  {
   "cell_type": "code",
   "execution_count": 15,
   "metadata": {},
   "outputs": [],
   "source": [
    "boton =driver.find_element_by_xpath(\"//*[@id='A2248:form-visualizar:datosplantilla_paginator_top']/span[3]/span[2]\")\n",
    "for i in range(3):\n",
    "    try:\n",
    "        boton.click()\n",
    "        sleep(random.uniform(8.0,10.0))\n",
    "        boton =driver.find_element_by_xpath(\"//*[@id='A2248:form-visualizar:datosplantilla_paginator_top']/span[3]/span[i]\")\n",
    "    except:\n",
    "        break"
   ]
  },
  {
   "cell_type": "code",
   "execution_count": 16,
   "metadata": {},
   "outputs": [],
   "source": [
    "tablas = driver.find_elements_by_xpath(\"//*[@id='A2248:form-visualizar:datosplantilla_data']/tr\")\n",
    "TablaCol = driver.find_elements_by_xpath(\"//*[@id='A2248:form-visualizar:datosplantilla_data']/tr[1]/td\")"
   ]
  },
  {
   "cell_type": "code",
   "execution_count": 17,
   "metadata": {},
   "outputs": [],
   "source": [
    "for a in tablas:\n",
    "    año = a.find_element_by_xpath('//*[@id=\"A2248:form-visualizar:datosplantilla_data\"]/tr/td[1]/div')\n",
    "    mes = a.find_element_by_xpath('//*[@id=\"A2248:form-visualizar:datosplantilla_data\"]/tr/td[2]/div')\n",
    "    Estamento = a.find_element_by_xpath('//*[@id=\"A2248:form-visualizar:datosplantilla_data\"]/tr/td[3]/div')\n",
    "    Nombre_completo = a.find_element_by_xpath('//*[@id=\"A2248:form-visualizar:datosplantilla_data\"]/tr/td[4]/div')\n",
    "    Cargo_o_función = a.find_element_by_xpath('//*[@id=\"A2248:form-visualizar:datosplantilla_data\"]/tr/td[5]/div')\n",
    "    Grado_EUS_Cargo_con_jornada = a.find_element_by_xpath('//*[@id=\"A2248:form-visualizar:datosplantilla_data\"]/tr/td[6]/div')\n",
    "    Calificación_profesional= a.find_element_by_xpath('//*[@id=\"A2248:form-visualizar:datosplantilla_data\"]/tr/td[7]/div')\n",
    "    Región= a.find_element_by_xpath('//*[@id=\"A2248:form-visualizar:datosplantilla_data\"]/tr/td[8]/div')\n",
    "    Asignaciones_especiales=a.find_element_by_xpath('//*[@id=\"A2248:form-visualizar:datosplantilla_data\"]/tr/td[9]/div')\n",
    "    Unidad_monetaria = a.find_element_by_xpath('//*[@id=\"A2248:form-visualizar:datosplantilla_data\"]/tr/td[10]/div')\n",
    "    Remuneración_bruta= a.find_element_by_xpath('//*[@id=\"A2248:form-visualizar:datosplantilla_data\"]/tr/td[11]/div')\n",
    "    Remuneración_líquida= a.find_element_by_xpath('//*[@id=\"A2248:form-visualizar:datosplantilla_data\"]/tr/td[12]/div')\n",
    "    Montos_y_horas_diurnas = a.find_element_by_xpath('//*[@id=\"A2248:form-visualizar:datosplantilla_data\"]/tr/td[13]/div')\n",
    "    Montos_y_horas_nocturnas= a.find_element_by_xpath('//*[@id=\"A2248:form-visualizar:datosplantilla_data\"]/tr/td[14]/div')\n",
    "    Montos_y_horas_festivas= a.find_element_by_xpath('//*[@id=\"A2248:form-visualizar:datosplantilla_data\"]/tr/td[15]/div')\n",
    "    Fecha_de_inicio = a.find_element_by_xpath('//*[@id=\"A2248:form-visualizar:datosplantilla_data\"]/tr/td[16]/div')\n",
    "    Fecha_de_término = a.find_element_by_xpath('//*[@id=\"A2248:form-visualizar:datosplantilla_data\"]/tr/td[17]/div')\n",
    "    Observaciones = a.find_element_by_xpath('//*[@id=\"A2248:form-visualizar:datosplantilla_data\"]/tr/td[18]/div')\n",
    "    Declaración_de_intereses = a.find_element_by_xpath('//*[@id=\"A2248:form-visualizar:datosplantilla_data\"]/tr/td[19]/div')\n",
    "    Viáticos = a.find_element_by_xpath('//*[@id=\"A2248:form-visualizar:datosplantilla_data\"]/tr/td[20]/div')"
   ]
  },
  {
   "cell_type": "code",
   "execution_count": 18,
   "metadata": {},
   "outputs": [],
   "source": [
    "df={'Año': año , 'Mes' : mes , 'Estamento': Estamento,'NombreCompleto': Nombre_completo,'Cargo': Cargo_o_función,'Grado': Grado_EUS_Cargo_con_jornada,'Formacion':Calificación_profesional,'Region':Región,'Asignacion Especial': Asignaciones_especiales,'Unidad Monetaria':Unidad_monetaria,'Sueldo Bruto':Remuneración_bruta,'Sueldo Liquido':Remuneración_líquida,'HorasExtrasDiurno':Montos_y_horas_diurnas,'HorasExtrasNocturno': Montos_y_horas_nocturnas,'HorasExtrasFestivos':Montos_y_horas_festivas,'FechaInicio': Fecha_de_inicio,'FechaTermino':Fecha_de_término,'Observaciones':Observaciones,'DeclaraIntereses':Declaración_de_intereses,'Viaticos':Viáticos}\n",
    "dataframe=pd.DataFrame([df])\n",
    "dataframe.index = np.arange(1, len(dataframe)+1)"
   ]
  },
  {
   "cell_type": "code",
   "execution_count": 19,
   "metadata": {},
   "outputs": [
    {
     "name": "stdout",
     "output_type": "stream",
     "text": [
      "<sqlite3.Connection object at 0x000002B072582730>\n"
     ]
    }
   ],
   "source": [
    "import sqlite3\n",
    "\n",
    "# connect function opens a connection to the SQLite database file, \n",
    "conn = sqlite3.connect('session.db')\n",
    "print(conn)"
   ]
  },
  {
   "cell_type": "code",
   "execution_count": null,
   "metadata": {},
   "outputs": [],
   "source": [
    "conn.execute('''\n",
    "         CREATE TABLE PlantaÑuñoa\n",
    "         (ID    INTEGER        PRIMARY KEY,\n",
    "         AÑO          INTEGER  NOT NULL,\n",
    "         MES        TEXT NOT NULL,\n",
    "         ESTAMENTO        TEXT    NOT NULL,\n",
    "         NOMBRECOMPLETO        TEXT    NOT NULL,\n",
    "         CARGO         TEXT NOT NULL,\n",
    "         GRADO INTEGER    NOT NULL,\n",
    "         FORMACION      TEXT   NOT NULL,\n",
    "         REGION        TEXT    NOT NULL,\n",
    "         ASIGNACIONESPECIAL    TEXT NOT NULL,\n",
    "         UNIDADMONETARIA        TEXT    NOT NULL,\n",
    "         SUELDOBRUTO    INTEGER    NOT NULL,\n",
    "         SUELDOLIQUIDO   INTEGER   NOT NULL,\n",
    "         HORASEXTRASDIURNO   TEXT   NOT NULL,\n",
    "         HORASEXTRASVESPERTINO  TEXT    NOT NULL,\n",
    "         HORASEXTRASFESTIVOS    TEXT   NOT NULL,\n",
    "         FECHAINICIO       TEXT   NOT NULL,\n",
    "         FECHATERMINO      TEXT    NOT NULL,\n",
    "         OBSERVACIONES    TEXT      NOT NULL,\n",
    "         DECLARAINTERESES   TEXT NOT NULL,\n",
    "         VIATICOS     TEXT          NOT NULL);''')\n",
    "    print (\"Table created successfully\");\n",
    "conn.close()\n",
    "print (\"Table created successfully\");"
   ]
  },
  {
   "cell_type": "code",
   "execution_count": null,
   "metadata": {},
   "outputs": [],
   "source": [
    "dataframe_list = dataframe.values.tolist()\n",
    "conn = sqlite3.connect('session.db')\n",
    "cur = conn.cursor()"
   ]
  },
  {
   "cell_type": "code",
   "execution_count": null,
   "metadata": {},
   "outputs": [],
   "source": [
    "cur.executemany(\"INSERT INTO PlantaÑuñoa(año,mes,Estamento,Nombre_completo,Cargo_o_función,Grado_EUS_Cargo_con_jornada,Calificación_profesional,Región,Asignaciones_especiales,Unidad_monetaria,Remuneración_bruta,Remuneración_líquida,Montos_y_horas_diurnas,Montos_y_horas_nocturnas,Montos_y_horas_festivas,Fecha_de_inicio,Fecha_de_término,Declaración_de_intereses,Viáticos,Observaciones) VALUES (?,?,?,?,?,?,?,?,?,?,?,?,?,?,?,?,?,?,?,?)\" ,dataframe_list)\n",
    "conn.commit()\n",
    "print('Data Inserted Successfully')"
   ]
  },
  {
   "cell_type": "code",
   "execution_count": null,
   "metadata": {},
   "outputs": [],
   "source": [
    "conn = sqlite3.connect('session.db')\n",
    "rows = cur.execute('Select * from ContrataÑuñoa5')\n",
    "# print(rows[:2])\n",
    "for row in rows:\n",
    "    print(row)\n",
    "conn.close()"
   ]
  }
 ],
 "metadata": {
  "kernelspec": {
   "display_name": "Python 3",
   "language": "python",
   "name": "python3"
  },
  "language_info": {
   "codemirror_mode": {
    "name": "ipython",
    "version": 3
   },
   "file_extension": ".py",
   "mimetype": "text/x-python",
   "name": "python",
   "nbconvert_exporter": "python",
   "pygments_lexer": "ipython3",
   "version": "3.7.4"
  }
 },
 "nbformat": 4,
 "nbformat_minor": 2
}
