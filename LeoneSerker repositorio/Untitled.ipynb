{
 "cells": [
  {
   "cell_type": "code",
   "execution_count": 4,
   "metadata": {},
   "outputs": [],
   "source": [
    "import random\n",
    "from time import sleep\n",
    "from selenium import webdriver"
   ]
  },
  {
   "cell_type": "code",
   "execution_count": null,
   "metadata": {},
   "outputs": [],
   "source": [
    "scrapper = webdriver.chrome('./chromedriver.exe')"
   ]
  },
  {
   "cell_type": "code",
   "execution_count": null,
   "metadata": {},
   "outputs": [],
   "source": [
    "scrapper.get('https://www.portaltransparencia.cl/PortalPdT/pdtta/-/ta/MU308/PR/PPLANT/50827470')"
   ]
  },
  {
   "cell_type": "code",
   "execution_count": null,
   "metadata": {},
   "outputs": [],
   "source": [
    "personas =_scrapper.find_elements_by_xpath('//td[role=gridcell]')\n",
    "\n",
    "for persona in personas:\n",
    "    anio=_persona.find_element_by_xpath()\n",
    "    mes=_persona.find_element_by_xpath()\n",
    "    estamento=_persona.find_element_by_xpath()\n",
    "    nombre=_persona.find_element_by_xpath()\n",
    "    cargo=_persona.find_element_by_xpath()\n",
    "    grado=_persona.find_element_by_xpath()\n",
    "    cal=_persona.find_element_by_xpath()\n",
    "    reg=_persona.find_element_by_xpath()\n",
    "    asig=_persona.find_element_by_xpath()\n",
    "    um=_persona.find_element_by_xpath()\n",
    "    remb=_persona.find_element_by_xpath()\n",
    "    remliq=_persona.find_element_by_xpath()\n",
    "    horex=_persona.find_element_by_xpath()\n",
    "    fdin=_persona.find_element_by_xpath()\n",
    "    fdterm=_persona.find_element_by_xpath()\n",
    "    obs=_persona.find_element_by_xpath()\n",
    "    decin=_persona.find_element_by_xpath()\n",
    "    viat=_persona.find_element_by_xpath()"
   ]
  }
 ],
 "metadata": {
  "kernelspec": {
   "display_name": "Python 3",
   "language": "python",
   "name": "python3"
  },
  "language_info": {
   "codemirror_mode": {
    "name": "ipython",
    "version": 3
   },
   "file_extension": ".py",
   "mimetype": "text/x-python",
   "name": "python",
   "nbconvert_exporter": "python",
   "pygments_lexer": "ipython3",
   "version": "3.7.6"
  }
 },
 "nbformat": 4,
 "nbformat_minor": 4
}
