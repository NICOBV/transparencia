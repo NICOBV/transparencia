{
 "cells": [
  {
   "cell_type": "code",
   "execution_count": 17,
   "metadata": {},
   "outputs": [],
   "source": [
    "import random\n",
    "from time import sleep\n",
    "from selenium import webdriver"
   ]
  },
  {
   "cell_type": "code",
   "execution_count": 18,
   "metadata": {},
   "outputs": [],
   "source": [
    "driver=webdriver.Chrome('./chromedriver.exe')"
   ]
  },
  {
   "cell_type": "code",
   "execution_count": 19,
   "metadata": {},
   "outputs": [],
   "source": [
    "driver.get('https://www.portaltransparencia.cl/PortalPdT/pdtta/-/ta/MU308/PR/PPLANT/50827470')"
   ]
  },
  {
   "cell_type": "code",
   "execution_count": 20,
   "metadata": {},
   "outputs": [
    {
     "name": "stdout",
     "output_type": "stream",
     "text": [
      "<selenium.webdriver.remote.webelement.WebElement (session=\"ef4fd131d7ebfa50dee4560b9f7cba82\", element=\"1f52656b-05db-465c-8009-f34269a85fea\")>\n"
     ]
    }
   ],
   "source": [
    "personas = driver.find_elements_by_xpath('//*[@id=\"A2248:form-visualizar:datosplantilla\"]')\n",
    "\n",
    "for persona in personas:\n",
    "    anio=persona.find_element_by_xpath('//*[@id=\"A2248:form-visualizar:datosplantilla:j_idt65:0\"]')\n",
    "    mes=persona.find_element_by_xpath('//*[@id=\"A2248:form-visualizar:datosplantilla:j_idt65:1\"]')\n",
    "    estamento=persona.find_element_by_xpath('//*[@id=\"A2248:form-visualizar:datosplantilla:j_idt65:2\"]')\n",
    "    nombre=persona.find_element_by_xpath('//*[@id=\"A2248:form-visualizar:datosplantilla:j_idt65:3\"]')\n",
    "    cargo=persona.find_element_by_xpath('//*[@id=\"A2248:form-visualizar:datosplantilla:j_idt65:4\"]')\n",
    "    grado=persona.find_element_by_xpath('//*[@id=\"A2248:form-visualizar:datosplantilla:j_idt65:5\"]')\n",
    "    cal=persona.find_element_by_xpath('//*[@id=\"A2248:form-visualizar:datosplantilla:j_idt65:6\"]')\n",
    "    region=persona.find_element_by_xpath('//*[@id=\"A2248:form-visualizar:datosplantilla:j_idt65:7\"]')\n",
    "    asigesp=persona.find_element_by_xpath('//*[@id=\"A2248:form-visualizar:datosplantilla:j_idt65:8\"]')\n",
    "    unmon=persona.find_element_by_xpath('//*[@id=\"A2248:form-visualizar:datosplantilla:j_idt65:9\"]')\n",
    "    remb=persona.find_element_by_xpath('//*[@id=\"A2248:form-visualizar:datosplantilla:j_idt65:10\"]')\n",
    "    reml=persona.find_element_by_xpath('//*[@id=\"A2248:form-visualizar:datosplantilla:j_idt65:11\"]')\n",
    "    hextrd=persona.find_element_by_xpath('//*[@id=\"A2248:form-visualizar:datosplantilla:j_idt65:12\"]')\n",
    "    hextrn=persona.find_element_by_xpath('//*[@id=\"A2248:form-visualizar:datosplantilla:j_idt65:13\"]')\n",
    "    hextrf=persona.find_element_by_xpath('//*[@id=\"A2248:form-visualizar:datosplantilla:j_idt65:14\"]')\n",
    "    fechin=persona.find_element_by_xpath('//*[@id=\"A2248:form-visualizar:datosplantilla:j_idt65:15\"]')\n",
    "    fechterm=persona.find_element_by_xpath('//*[@id=\"A2248:form-visualizar:datosplantilla:j_idt65:16\"]')\n",
    "    decint=persona.find_element_by_xpath('//*[@id=\"A2248:form-visualizar:datosplantilla:j_idt65:17\"]')\n",
    "    viat=persona.find_element_by_xpath('//*[@id=\"A2248:form-visualizar:datosplantilla:j_idt65:18\"]')\n",
    "    obs=persona.find_element_by_xpath('//*[@id=\"A2248:form-visualizar:datosplantilla:j_idt65:19\"]')\n",
    "    print (anio)\n",
    "    \n",
    "    "
   ]
  },
  {
   "cell_type": "code",
   "execution_count": null,
   "metadata": {},
   "outputs": [],
   "source": []
  },
  {
   "cell_type": "code",
   "execution_count": null,
   "metadata": {},
   "outputs": [],
   "source": []
  },
  {
   "cell_type": "code",
   "execution_count": null,
   "metadata": {},
   "outputs": [],
   "source": []
  }
 ],
 "metadata": {
  "kernelspec": {
   "display_name": "Python 3",
   "language": "python",
   "name": "python3"
  },
  "language_info": {
   "codemirror_mode": {
    "name": "ipython",
    "version": 3
   },
   "file_extension": ".py",
   "mimetype": "text/x-python",
   "name": "python",
   "nbconvert_exporter": "python",
   "pygments_lexer": "ipython3",
   "version": "3.7.6"
  }
 },
 "nbformat": 4,
 "nbformat_minor": 4
}
