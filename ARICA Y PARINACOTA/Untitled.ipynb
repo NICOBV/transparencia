{
 "cells": [
  {
   "cell_type": "code",
   "execution_count": 29,
   "metadata": {},
   "outputs": [],
   "source": [
    "import urllib.request\n",
    "#Contrata\n",
    "dataContrata= urllib.request.urlopen('https://transparencia.municipalidaddearica.cl/uploads/file/LEY20285/2020/ENERO/personal/rem-con-ene-ima.pdf').read().decode('latin-1')"
   ]
  },
  {
   "cell_type": "code",
   "execution_count": 30,
   "metadata": {},
   "outputs": [],
   "source": [
    "#Planta\n",
    "dataPlanta= urllib.request.urlopen('https://transparencia.municipalidaddearica.cl/uploads/file/LEY20285/2020/ABRIL/personal/rem-pla-abr-ima.pdf').read().decode('latin-1')"
   ]
  },
  {
   "cell_type": "code",
   "execution_count": 21,
   "metadata": {},
   "outputs": [
    {
     "name": "stdout",
     "output_type": "stream",
     "text": [
      "Requirement already satisfied: beautifulSoup4 in c:\\programdata\\anaconda3\\lib\\site-packages (4.8.2)\n",
      "Requirement already satisfied: soupsieve>=1.2 in c:\\programdata\\anaconda3\\lib\\site-packages (from beautifulSoup4) (1.9.5)\n"
     ]
    }
   ],
   "source": [
    "import sys\n",
    "!{sys.executable} -m pip install beautifulSoup4"
   ]
  },
  {
   "cell_type": "code",
   "execution_count": 27,
   "metadata": {},
   "outputs": [],
   "source": [
    "from bs4 import BeautifulSoup\n",
    "soup = BeautifulSoup(dataContrata)\n",
    "tags= soup('a')\n",
    "for tag in tags:\n",
    "    print(tag.get('href'))"
   ]
  },
  {
   "cell_type": "code",
   "execution_count": null,
   "metadata": {},
   "outputs": [],
   "source": []
  }
 ],
 "metadata": {
  "kernelspec": {
   "display_name": "Python 3",
   "language": "python",
   "name": "python3"
  },
  "language_info": {
   "codemirror_mode": {
    "name": "ipython",
    "version": 3
   },
   "file_extension": ".py",
   "mimetype": "text/x-python",
   "name": "python",
   "nbconvert_exporter": "python",
   "pygments_lexer": "ipython3",
   "version": "3.7.6"
  }
 },
 "nbformat": 4,
 "nbformat_minor": 4
}
